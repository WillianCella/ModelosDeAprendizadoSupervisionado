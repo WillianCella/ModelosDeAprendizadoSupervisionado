{
 "cells": [
  {
   "cell_type": "markdown",
   "metadata": {
    "colab_type": "text",
    "id": "view-in-github"
   },
   "source": [
    "<a href=\"https://colab.research.google.com/github/WillianCella/ModelosDeAprendizadoSupervisionado/blob/main/Trabalho_1_%E2%80%93_Modelos_de_Aprendizado_Supervisionado.ipynb\" target=\"_parent\"><img src=\"https://colab.research.google.com/assets/colab-badge.svg\" alt=\"Open In Colab\"/></a>"
   ]
  },
  {
   "cell_type": "markdown",
   "metadata": {
    "id": "VbJKT_4TqdAZ"
   },
   "source": [
    "A base de dados *poker-hand-testing* foi extraída de: https://archive-beta.ics.uci.edu/dataset/158/poker+hand\n",
    "### S = Suits(Naipes) Valores de 1 a 4\n",
    "### C = Cards(Cartas) Valores de 1 a 13\n",
    "#### Cartas Maos\n",
    "   - S1 = Naipes = Heart♥️, Spades♠️, Diamonds♦️, Clubs♣️\n",
    "   - C1 = Valores= A, 2, 3, 4, 5, 6, 7, 8, 9, 10 , J, Q, K\n",
    "   - S2 = Naipes = Heart♥️, Spades♠️, Diamonds♦️, Clubs♣️\n",
    "   - C2 = Valores= A, 2, 3, 4, 5, 6, 7, 8, 9, 10 , J, Q, K\n",
    "   - S3 = Naipes = Heart♥️, Spades♠️, Diamonds♦️, Clubs♣️\n",
    "   - C3 = Valores= A, 2, 3, 4, 5, 6, 7, 8, 9, 10 , J, Q, K\n",
    "   - S4 = Naipes = Heart♥️, Spades♠️, Diamonds♦️, Clubs♣️\n",
    "   - C4 = Valores= A, 2, 3, 4, 5, 6, 7, 8, 9, 10 , J, Q, K\n",
    "   - S5 = Naipes = Heart♥️, Spades♠️, Diamonds♦️, Clubs♣️\n",
    "   - C5 = Valores= A, 2, 3, 4, 5, 6, 7, 8, 9, 10 , J, Q, K\n",
    "#### Jogadas possiveis   \n",
    "   - CLASS = 0, 1, 2, 3, 4, 5, 6, 7, 8, 9\n",
    "\n",
    "#### DESCRICAO CLASSES\n",
    "- 0: Nothing in hand; not a recognized poker hand\n",
    "\n",
    "- 1: One pair; one pair of equal ranks within five cards\n",
    "\n",
    "- 2: Two pairs; two pairs of equal ranks within five cards\n",
    "\n",
    "- 3: Three of a kind; three equal ranks within five cards\n",
    "\n",
    "- 4: Straight; five cards, sequentially ranked with no gaps\n",
    "\n",
    "- 5: Flush; five cards with the same suit\n",
    "\n",
    "- 6: Full house; pair + different rank three of a kind\n",
    "\n",
    "- 7: Four of a kind; four equal ranks within five cards\n",
    "\n",
    "- 8: Straight flush; straight + flush\n",
    "\n",
    "- 9: Royal flush; {Ace, King, Queen, Jack, Ten} + flush"
   ]
  },
  {
   "cell_type": "code",
   "execution_count": 135,
   "metadata": {
    "id": "Xt9iBF5-JnAu",
    "tags": []
   },
   "outputs": [],
   "source": [
    "import pandas as pd\n",
    "#import sklearn as sk\n",
    "#import matplotlib as plt\n",
    "#import numpy as np\n",
    "from sklearn.neighbors import KNeighborsClassifier\n",
    "from sklearn.metrics import accuracy_score\n",
    "from sklearn.tree import DecisionTreeClassifier"
   ]
  },
  {
   "cell_type": "code",
   "execution_count": 136,
   "metadata": {
    "colab": {
     "base_uri": "https://localhost:8080/"
    },
    "id": "u3VMIBcYKnGo",
    "outputId": "1dbfb10b-ef16-4c02-dee5-5b5c0dabb94d",
    "tags": []
   },
   "outputs": [],
   "source": [
    "#from google.colab import drive\n",
    "#drive.mount('/content/drive', force_remount=True)"
   ]
  },
  {
   "cell_type": "code",
   "execution_count": 137,
   "metadata": {
    "tags": []
   },
   "outputs": [
    {
     "data": {
      "text/html": [
       "<div>\n",
       "<style scoped>\n",
       "    .dataframe tbody tr th:only-of-type {\n",
       "        vertical-align: middle;\n",
       "    }\n",
       "\n",
       "    .dataframe tbody tr th {\n",
       "        vertical-align: top;\n",
       "    }\n",
       "\n",
       "    .dataframe thead th {\n",
       "        text-align: right;\n",
       "    }\n",
       "</style>\n",
       "<table border=\"1\" class=\"dataframe\">\n",
       "  <thead>\n",
       "    <tr style=\"text-align: right;\">\n",
       "      <th></th>\n",
       "      <th>S1</th>\n",
       "      <th>C1</th>\n",
       "      <th>S2</th>\n",
       "      <th>C2</th>\n",
       "      <th>S3</th>\n",
       "      <th>C3</th>\n",
       "      <th>S4</th>\n",
       "      <th>C4</th>\n",
       "      <th>S5</th>\n",
       "      <th>C5</th>\n",
       "      <th>Class</th>\n",
       "    </tr>\n",
       "  </thead>\n",
       "  <tbody>\n",
       "    <tr>\n",
       "      <th>count</th>\n",
       "      <td>1000.000000</td>\n",
       "      <td>1000.000000</td>\n",
       "      <td>1000.000000</td>\n",
       "      <td>1000.000000</td>\n",
       "      <td>1000.000000</td>\n",
       "      <td>1000.000000</td>\n",
       "      <td>1000.000000</td>\n",
       "      <td>1000.000000</td>\n",
       "      <td>1000.000000</td>\n",
       "      <td>1000.000000</td>\n",
       "      <td>1000.000000</td>\n",
       "    </tr>\n",
       "    <tr>\n",
       "      <th>mean</th>\n",
       "      <td>2.470000</td>\n",
       "      <td>7.020000</td>\n",
       "      <td>2.479000</td>\n",
       "      <td>7.082000</td>\n",
       "      <td>2.523000</td>\n",
       "      <td>7.090000</td>\n",
       "      <td>2.547000</td>\n",
       "      <td>6.893000</td>\n",
       "      <td>2.513000</td>\n",
       "      <td>6.915000</td>\n",
       "      <td>0.600000</td>\n",
       "    </tr>\n",
       "    <tr>\n",
       "      <th>std</th>\n",
       "      <td>1.149966</td>\n",
       "      <td>3.812629</td>\n",
       "      <td>1.117501</td>\n",
       "      <td>3.757578</td>\n",
       "      <td>1.121931</td>\n",
       "      <td>3.782355</td>\n",
       "      <td>1.122074</td>\n",
       "      <td>3.742935</td>\n",
       "      <td>1.122092</td>\n",
       "      <td>3.696138</td>\n",
       "      <td>0.740641</td>\n",
       "    </tr>\n",
       "    <tr>\n",
       "      <th>min</th>\n",
       "      <td>1.000000</td>\n",
       "      <td>1.000000</td>\n",
       "      <td>1.000000</td>\n",
       "      <td>1.000000</td>\n",
       "      <td>1.000000</td>\n",
       "      <td>1.000000</td>\n",
       "      <td>1.000000</td>\n",
       "      <td>1.000000</td>\n",
       "      <td>1.000000</td>\n",
       "      <td>1.000000</td>\n",
       "      <td>0.000000</td>\n",
       "    </tr>\n",
       "    <tr>\n",
       "      <th>25%</th>\n",
       "      <td>1.000000</td>\n",
       "      <td>4.000000</td>\n",
       "      <td>1.000000</td>\n",
       "      <td>4.000000</td>\n",
       "      <td>2.000000</td>\n",
       "      <td>4.000000</td>\n",
       "      <td>2.000000</td>\n",
       "      <td>4.000000</td>\n",
       "      <td>2.000000</td>\n",
       "      <td>4.000000</td>\n",
       "      <td>0.000000</td>\n",
       "    </tr>\n",
       "    <tr>\n",
       "      <th>50%</th>\n",
       "      <td>2.000000</td>\n",
       "      <td>7.000000</td>\n",
       "      <td>2.000000</td>\n",
       "      <td>7.000000</td>\n",
       "      <td>3.000000</td>\n",
       "      <td>7.000000</td>\n",
       "      <td>3.000000</td>\n",
       "      <td>7.000000</td>\n",
       "      <td>2.000000</td>\n",
       "      <td>7.000000</td>\n",
       "      <td>0.000000</td>\n",
       "    </tr>\n",
       "    <tr>\n",
       "      <th>75%</th>\n",
       "      <td>4.000000</td>\n",
       "      <td>10.250000</td>\n",
       "      <td>3.000000</td>\n",
       "      <td>10.000000</td>\n",
       "      <td>4.000000</td>\n",
       "      <td>10.000000</td>\n",
       "      <td>4.000000</td>\n",
       "      <td>10.000000</td>\n",
       "      <td>4.000000</td>\n",
       "      <td>10.000000</td>\n",
       "      <td>1.000000</td>\n",
       "    </tr>\n",
       "    <tr>\n",
       "      <th>max</th>\n",
       "      <td>4.000000</td>\n",
       "      <td>13.000000</td>\n",
       "      <td>4.000000</td>\n",
       "      <td>13.000000</td>\n",
       "      <td>4.000000</td>\n",
       "      <td>13.000000</td>\n",
       "      <td>4.000000</td>\n",
       "      <td>13.000000</td>\n",
       "      <td>4.000000</td>\n",
       "      <td>13.000000</td>\n",
       "      <td>5.000000</td>\n",
       "    </tr>\n",
       "  </tbody>\n",
       "</table>\n",
       "</div>"
      ],
      "text/plain": [
       "                S1           C1           S2           C2           S3  \\\n",
       "count  1000.000000  1000.000000  1000.000000  1000.000000  1000.000000   \n",
       "mean      2.470000     7.020000     2.479000     7.082000     2.523000   \n",
       "std       1.149966     3.812629     1.117501     3.757578     1.121931   \n",
       "min       1.000000     1.000000     1.000000     1.000000     1.000000   \n",
       "25%       1.000000     4.000000     1.000000     4.000000     2.000000   \n",
       "50%       2.000000     7.000000     2.000000     7.000000     3.000000   \n",
       "75%       4.000000    10.250000     3.000000    10.000000     4.000000   \n",
       "max       4.000000    13.000000     4.000000    13.000000     4.000000   \n",
       "\n",
       "                C3           S4           C4           S5           C5  \\\n",
       "count  1000.000000  1000.000000  1000.000000  1000.000000  1000.000000   \n",
       "mean      7.090000     2.547000     6.893000     2.513000     6.915000   \n",
       "std       3.782355     1.122074     3.742935     1.122092     3.696138   \n",
       "min       1.000000     1.000000     1.000000     1.000000     1.000000   \n",
       "25%       4.000000     2.000000     4.000000     2.000000     4.000000   \n",
       "50%       7.000000     3.000000     7.000000     2.000000     7.000000   \n",
       "75%      10.000000     4.000000    10.000000     4.000000    10.000000   \n",
       "max      13.000000     4.000000    13.000000     4.000000    13.000000   \n",
       "\n",
       "             Class  \n",
       "count  1000.000000  \n",
       "mean      0.600000  \n",
       "std       0.740641  \n",
       "min       0.000000  \n",
       "25%       0.000000  \n",
       "50%       0.000000  \n",
       "75%       1.000000  \n",
       "max       5.000000  "
      ]
     },
     "execution_count": 137,
     "metadata": {},
     "output_type": "execute_result"
    }
   ],
   "source": [
    "dados.describe()"
   ]
  },
  {
   "cell_type": "code",
   "execution_count": 138,
   "metadata": {
    "tags": []
   },
   "outputs": [
    {
     "data": {
      "text/plain": [
       "(1000, 11)"
      ]
     },
     "execution_count": 138,
     "metadata": {},
     "output_type": "execute_result"
    }
   ],
   "source": [
    "dados.shape"
   ]
  },
  {
   "cell_type": "code",
   "execution_count": 139,
   "metadata": {
    "colab": {
     "base_uri": "https://localhost:8080/"
    },
    "id": "10g17sHvUBDt",
    "outputId": "ed6f728e-b7ae-4cdc-8e9e-6a8c8936ea8b"
   },
   "outputs": [
    {
     "name": "stdout",
     "output_type": "stream",
     "text": [
      "[0.478, 0.478, 0.538, 0.48, 0.498, 0.492, 0.508, 0.498, 0.508, 0.5, 0.522, 0.496, 0.52, 0.518, 0.526, 0.516, 0.526, 0.508, 0.52, 0.506, 0.516, 0.514, 0.524, 0.518, 0.526, 0.532, 0.544, 0.536, 0.536, 0.536, 0.522, 0.532, 0.544, 0.538, 0.522, 0.528, 0.536, 0.532, 0.522, 0.534, 0.52, 0.54, 0.51, 0.538, 0.522, 0.536, 0.506, 0.53, 0.514, 0.534, 0.506, 0.526, 0.496, 0.52, 0.5, 0.522, 0.494, 0.502, 0.508, 0.502, 0.502, 0.5, 0.5, 0.504, 0.504, 0.506, 0.5, 0.506, 0.514, 0.518, 0.496, 0.518, 0.514, 0.508, 0.5, 0.512, 0.506, 0.5, 0.506, 0.512, 0.52, 0.504, 0.506, 0.514, 0.508, 0.518, 0.494, 0.518, 0.508, 0.516, 0.51, 0.512, 0.52, 0.522, 0.51, 0.524, 0.522, 0.524, 0.524, 0.532]\n",
      "Melhor resultado:\n",
      "15\n",
      "15\n",
      "19\n",
      "23\n",
      "2\n",
      "17\n",
      "22\n",
      "21\n",
      "14\n",
      "17\n",
      "kneighbor - 2\n",
      "weight - uniform\n",
      "accuracy - 0.508\n",
      "result - [{'acc': 0.478, 'weight': 'uniform', 'kneighbor': 1}, {'acc': 0.478, 'weight': 'distance', 'kneighbor': 1}, {'acc': 0.48, 'weight': 'distance', 'kneighbor': 2}, {'acc': 0.492, 'weight': 'distance', 'kneighbor': 3}, {'acc': 0.494, 'weight': 'uniform', 'kneighbor': 29}, {'acc': 0.494, 'weight': 'uniform', 'kneighbor': 44}, {'acc': 0.496, 'weight': 'distance', 'kneighbor': 6}, {'acc': 0.496, 'weight': 'uniform', 'kneighbor': 27}, {'acc': 0.496, 'weight': 'uniform', 'kneighbor': 36}, {'acc': 0.498, 'weight': 'uniform', 'kneighbor': 3}, {'acc': 0.498, 'weight': 'distance', 'kneighbor': 4}, {'acc': 0.5, 'weight': 'distance', 'kneighbor': 5}, {'acc': 0.5, 'weight': 'uniform', 'kneighbor': 28}, {'acc': 0.5, 'weight': 'distance', 'kneighbor': 31}, {'acc': 0.5, 'weight': 'uniform', 'kneighbor': 32}, {'acc': 0.5, 'weight': 'uniform', 'kneighbor': 34}, {'acc': 0.5, 'weight': 'uniform', 'kneighbor': 38}, {'acc': 0.5, 'weight': 'distance', 'kneighbor': 39}, {'acc': 0.502, 'weight': 'distance', 'kneighbor': 29}, {'acc': 0.502, 'weight': 'distance', 'kneighbor': 30}, {'acc': 0.502, 'weight': 'uniform', 'kneighbor': 31}, {'acc': 0.504, 'weight': 'distance', 'kneighbor': 32}, {'acc': 0.504, 'weight': 'uniform', 'kneighbor': 33}, {'acc': 0.504, 'weight': 'distance', 'kneighbor': 41}, {'acc': 0.506, 'weight': 'distance', 'kneighbor': 10}, {'acc': 0.506, 'weight': 'uniform', 'kneighbor': 24}, {'acc': 0.506, 'weight': 'uniform', 'kneighbor': 26}, {'acc': 0.506, 'weight': 'distance', 'kneighbor': 33}, {'acc': 0.506, 'weight': 'distance', 'kneighbor': 34}, {'acc': 0.506, 'weight': 'uniform', 'kneighbor': 39}, {'acc': 0.506, 'weight': 'uniform', 'kneighbor': 40}, {'acc': 0.506, 'weight': 'uniform', 'kneighbor': 42}, {'acc': 0.508, 'weight': 'uniform', 'kneighbor': 4}, {'acc': 0.508, 'weight': 'uniform', 'kneighbor': 5}, {'acc': 0.508, 'weight': 'distance', 'kneighbor': 9}, {'acc': 0.508, 'weight': 'uniform', 'kneighbor': 30}, {'acc': 0.508, 'weight': 'distance', 'kneighbor': 37}, {'acc': 0.508, 'weight': 'uniform', 'kneighbor': 43}, {'acc': 0.508, 'weight': 'uniform', 'kneighbor': 45}, {'acc': 0.51, 'weight': 'uniform', 'kneighbor': 22}, {'acc': 0.51, 'weight': 'uniform', 'kneighbor': 46}, {'acc': 0.51, 'weight': 'uniform', 'kneighbor': 48}, {'acc': 0.512, 'weight': 'distance', 'kneighbor': 38}, {'acc': 0.512, 'weight': 'distance', 'kneighbor': 40}, {'acc': 0.512, 'weight': 'distance', 'kneighbor': 46}, {'acc': 0.514, 'weight': 'distance', 'kneighbor': 11}, {'acc': 0.514, 'weight': 'uniform', 'kneighbor': 25}, {'acc': 0.514, 'weight': 'uniform', 'kneighbor': 35}, {'acc': 0.514, 'weight': 'uniform', 'kneighbor': 37}, {'acc': 0.514, 'weight': 'distance', 'kneighbor': 42}, {'acc': 0.516, 'weight': 'distance', 'kneighbor': 8}, {'acc': 0.516, 'weight': 'uniform', 'kneighbor': 11}, {'acc': 0.516, 'weight': 'distance', 'kneighbor': 45}, {'acc': 0.518, 'weight': 'distance', 'kneighbor': 7}, {'acc': 0.518, 'weight': 'distance', 'kneighbor': 12}, {'acc': 0.518, 'weight': 'distance', 'kneighbor': 35}, {'acc': 0.518, 'weight': 'distance', 'kneighbor': 36}, {'acc': 0.518, 'weight': 'distance', 'kneighbor': 43}, {'acc': 0.518, 'weight': 'distance', 'kneighbor': 44}, {'acc': 0.52, 'weight': 'uniform', 'kneighbor': 7}, {'acc': 0.52, 'weight': 'uniform', 'kneighbor': 10}, {'acc': 0.52, 'weight': 'uniform', 'kneighbor': 21}, {'acc': 0.52, 'weight': 'distance', 'kneighbor': 27}, {'acc': 0.52, 'weight': 'uniform', 'kneighbor': 41}, {'acc': 0.52, 'weight': 'uniform', 'kneighbor': 47}, {'acc': 0.522, 'weight': 'uniform', 'kneighbor': 6}, {'acc': 0.522, 'weight': 'uniform', 'kneighbor': 16}, {'acc': 0.522, 'weight': 'uniform', 'kneighbor': 18}, {'acc': 0.522, 'weight': 'uniform', 'kneighbor': 20}, {'acc': 0.522, 'weight': 'uniform', 'kneighbor': 23}, {'acc': 0.522, 'weight': 'distance', 'kneighbor': 28}, {'acc': 0.522, 'weight': 'distance', 'kneighbor': 47}, {'acc': 0.522, 'weight': 'uniform', 'kneighbor': 49}, {'acc': 0.524, 'weight': 'uniform', 'kneighbor': 12}, {'acc': 0.524, 'weight': 'distance', 'kneighbor': 48}, {'acc': 0.524, 'weight': 'distance', 'kneighbor': 49}, {'acc': 0.524, 'weight': 'uniform', 'kneighbor': 50}, {'acc': 0.526, 'weight': 'uniform', 'kneighbor': 8}, {'acc': 0.526, 'weight': 'uniform', 'kneighbor': 9}, {'acc': 0.526, 'weight': 'uniform', 'kneighbor': 13}, {'acc': 0.526, 'weight': 'distance', 'kneighbor': 26}, {'acc': 0.528, 'weight': 'distance', 'kneighbor': 18}, {'acc': 0.53, 'weight': 'distance', 'kneighbor': 24}, {'acc': 0.532, 'weight': 'distance', 'kneighbor': 13}, {'acc': 0.532, 'weight': 'distance', 'kneighbor': 16}, {'acc': 0.532, 'weight': 'distance', 'kneighbor': 19}, {'acc': 0.532, 'weight': 'distance', 'kneighbor': 50}, {'acc': 0.534, 'weight': 'distance', 'kneighbor': 20}, {'acc': 0.534, 'weight': 'distance', 'kneighbor': 25}, {'acc': 0.536, 'weight': 'distance', 'kneighbor': 14}, {'acc': 0.536, 'weight': 'uniform', 'kneighbor': 15}, {'acc': 0.536, 'weight': 'distance', 'kneighbor': 15}, {'acc': 0.536, 'weight': 'uniform', 'kneighbor': 19}, {'acc': 0.536, 'weight': 'distance', 'kneighbor': 23}, {'acc': 0.538, 'weight': 'uniform', 'kneighbor': 2}, {'acc': 0.538, 'weight': 'distance', 'kneighbor': 17}, {'acc': 0.538, 'weight': 'distance', 'kneighbor': 22}, {'acc': 0.54, 'weight': 'distance', 'kneighbor': 21}, {'acc': 0.544, 'weight': 'uniform', 'kneighbor': 14}, {'acc': 0.544, 'weight': 'uniform', 'kneighbor': 17}]\n"
     ]
    }
   ],
   "source": [
    "# KNN\n",
    "knn_best_result = []\n",
    "knn_result = []\n",
    "# DT - Arvore de descisao \n",
    "dt_best_result = []\n",
    "dt_result = []\n",
    "# RF - Floresta randomica\n",
    "rf_best_result = []\n",
    "rf_result = []\n",
    "# SVM \n",
    "svm_best_result = []\n",
    "svm_result = []\n",
    "\n",
    "#KNN\n",
    "for i in range(1, 51):\n",
    "  for j in [\"uniform\",\"distance\"]:\n",
    "    KNN = KNeighborsClassifier(n_neighbors=i,weights=j)\n",
    "    KNN.fit(x_treino,y_treino)\n",
    "    opiniao = KNN.predict(x_teste)\n",
    "    pred = KNN.predict(x_teste)\n",
    "    result = accuracy_score(y_teste, opiniao)\n",
    "    #print(f\"Precisão: {i} - {j} -> \", {result})\n",
    "    knn_result.append({\n",
    "        'acc': result,\n",
    "        'weight': j,\n",
    "        'kneighbor': i})\n",
    "#    if result > KNNBestResult:\n",
    "#      KNNBestResult = result\n",
    "#      KNNBestPred = pred\n",
    "#      Kneighbor = i\n",
    "#      weight = j\n",
    "print([knn['acc'] for knn in knn_result])\n",
    "knn_result.sort(key=lambda x: x['acc']) # orderna pela % acuracia\n",
    "knn_best_result = knn_result[-10:] # os 10 melhores resultados\n",
    "\n",
    "print(f'Melhor resultado:')\n",
    "for knn in knn_best_result:\n",
    "    for k, v in knn.items():\n",
    "        if k == 'kneighbor':\n",
    "            print(v)\n",
    "         \n",
    "print(f'kneighbor - {Kneighbor}')\n",
    "print(f'weight - {weight}')\n",
    "print(f'accuracy - {KNNBestResult}')\n",
    "print(f'result -',knn_result)\n",
    "#print(f'media- {sum(knn_result)/len(knn_result)}')\n",
    "# teste = KNeighborsClassifier(n_neighbors=Kneighbor,weights=weight)\n",
    "# teste.fit(x_treino,y_treino)\n",
    "# opinionTest = teste.predict(x_teste)\n",
    "# predTest = teste.predict(x_teste)\n",
    "# resultTest = accuracy_score(y_teste, opinionTest)\n",
    "# print(f'Teste com o melhor resultado: {resultTest}')"
   ]
  },
  {
   "cell_type": "code",
   "execution_count": null,
   "metadata": {
    "tags": []
   },
   "outputs": [],
   "source": [
    "#AD\n",
    "criterion = [\"gini\", \"entropy\"]\n",
    "max_depth =  7\n",
    "splitter = \"ramdom\"\n",
    "for cr in criterion:\n",
    "    clf = DecisionTreeClassifier(criterion=cr, splitter=splitter, max_depth=max_depth)\n",
    "    print(f' criterio: {cr},  clf: {clf}')"
   ]
  },
  {
   "cell_type": "code",
   "execution_count": null,
   "metadata": {
    "colab": {
     "base_uri": "https://localhost:8080/",
     "height": 424
    },
    "id": "znuhgl8rLADZ",
    "outputId": "5d6b44e8-cc9a-453d-cac3-b151a11d5563"
   },
   "outputs": [],
   "source": [
    "#dados = pd.read_csv(\"/content/drive/MyDrive/Shared/poker-hand-testing2.csv\", sep = ';')\n",
    "dados = pd.read_csv(\"poker-hand-testing2.csv\", sep=';')\n",
    "x = dados.iloc[:, :10].values # Cria uma matriz com todos os valores exceto as classes\n",
    "y = dados['Class'].values     # Cria um array com os valores das classes\n",
    "\n",
    "# Cria um dataFrame com a matriz de dados com os nomes de todas as colunas exceto a última\n",
    "df_temp = pd.DataFrame(dados,columns=dados.columns[:-1])\n",
    "df_temp"
   ]
  },
  {
   "cell_type": "code",
   "execution_count": null,
   "metadata": {
    "id": "ZlX-OBR-Rvlf"
   },
   "outputs": [],
   "source": [
    "from sklearn.model_selection import train_test_split\n",
    "x_treino,x_teste,y_treino,y_teste=train_test_split(df_temp,dados['Class'],test_size=0.5,stratify=dados['Class'],shuffle=True)\n",
    "#x_validacao,x_teste,y_validacao,y_teste=train_test_split(x_teste,y_teste,test_size=0.5, stratify = y_teste)"
   ]
  },
  {
   "cell_type": "code",
   "execution_count": null,
   "metadata": {
    "colab": {
     "base_uri": "https://localhost:8080/"
    },
    "id": "10g17sHvUBDt",
    "outputId": "ed6f728e-b7ae-4cdc-8e9e-6a8c8936ea8b"
   },
   "outputs": [],
   "source": [
    "# KNN\n",
    "KNNBestResult = 0\n",
    "KNNBestPred = []\n",
    "Kneighbor = 0\n",
    "weight = ''\n",
    "knn_result = []\n",
    "\n",
    "for i in range(1, 11):\n",
    "  for j in [\"uniform\",\"distance\"]:\n",
    "    KNN = KNeighborsClassifier(n_neighbors=i,weights=j)\n",
    "    KNN.fit(x_treino,y_treino)\n",
    "    opiniao = KNN.predict(x_teste)\n",
    "    pred = KNN.predict(x_teste)\n",
    "    result = accuracy_score(y_teste, opiniao)\n",
    "    #print(f\"Precisão: {i} - {j} -> \", {result})\n",
    "    knn_result.append(result)\n",
    "    if result > KNNBestResult:\n",
    "      KNNBestResult = result\n",
    "      KNNBestPred = pred\n",
    "      Kneighbor = i\n",
    "      weight = j\n",
    "\n",
    "print(f'Melhor resultado:')\n",
    "print(f'kneighbor - {Kneighbor}')\n",
    "print(f'weight - {weight}')\n",
    "print(f'accuracy - {KNNBestResult}')\n",
    "print(f'result -',knn_result)\n",
    "print(f'media - {sum(knn_result)/len(knn_result)}')\n",
    "# teste = KNeighborsClassifier(n_neighbors=Kneighbor,weights=weight)\n",
    "# teste.fit(x_treino,y_treino)\n",
    "# opinionTest = teste.predict(x_teste)\n",
    "# predTest = teste.predict(x_teste)\n",
    "# resultTest = accuracy_score(y_teste, opinionTest)\n",
    "# print(f'Teste com o melhor resultado: {resultTest}')"
   ]
  },
  {
   "cell_type": "code",
   "execution_count": 119,
   "metadata": {
    "colab": {
     "base_uri": "https://localhost:8080/",
     "height": 714
    },
    "id": "o5GJYXfr-zsj",
    "outputId": "5758d202-526f-4504-cb9c-3c4ed4bcd352",
    "tags": []
   },
   "outputs": [
    {
     "name": "stderr",
     "output_type": "stream",
     "text": [
      "/Users/semicheche/Workspace/MLPos/ModelosDeAprendizadoSupervisionado/env/lib/python3.7/site-packages/sklearn/metrics/_classification.py:1318: UndefinedMetricWarning: Precision and F-score are ill-defined and being set to 0.0 in labels with no predicted samples. Use `zero_division` parameter to control this behavior.\n",
      "  _warn_prf(average, modifier, msg_start, len(result))\n",
      "/Users/semicheche/Workspace/MLPos/ModelosDeAprendizadoSupervisionado/env/lib/python3.7/site-packages/sklearn/metrics/_classification.py:1318: UndefinedMetricWarning: Precision and F-score are ill-defined and being set to 0.0 in labels with no predicted samples. Use `zero_division` parameter to control this behavior.\n",
      "  _warn_prf(average, modifier, msg_start, len(result))\n",
      "/Users/semicheche/Workspace/MLPos/ModelosDeAprendizadoSupervisionado/env/lib/python3.7/site-packages/sklearn/metrics/_classification.py:1318: UndefinedMetricWarning: Precision and F-score are ill-defined and being set to 0.0 in labels with no predicted samples. Use `zero_division` parameter to control this behavior.\n",
      "  _warn_prf(average, modifier, msg_start, len(result))\n"
     ]
    },
    {
     "name": "stdout",
     "output_type": "stream",
     "text": [
      "              precision    recall  f1-score   support\n",
      "\n",
      "           0       0.50      0.74      0.60       254\n",
      "           1       0.44      0.25      0.32       209\n",
      "           2       0.00      0.00      0.00        24\n",
      "           3       0.00      0.00      0.00        10\n",
      "           4       0.00      0.00      0.00         2\n",
      "           5       0.00      0.00      0.00         1\n",
      "\n",
      "    accuracy                           0.48       500\n",
      "   macro avg       0.16      0.17      0.15       500\n",
      "weighted avg       0.44      0.48      0.44       500\n",
      "\n",
      "AUC KNN:  0.5708158263305322\n",
      "AUC NB:  0.46699929971988796\n",
      "AUC DT:  0.575280112044818\n",
      "AUC RF:  0.5753238795518207\n"
     ]
    },
    {
     "data": {
      "image/png": "[encoded data removed]",
      "text/plain": [
       "<Figure size 640x480 with 1 Axes>"
      ]
     },
     "metadata": {},
     "output_type": "display_data"
    }
   ],
   "source": [
    "from sklearn.metrics import classification_report, confusion_matrix\n",
    "print(classification_report(y_teste,KNNBestPred))\n",
    "\n",
    "confusion_matrix(y_teste,KNNBestPred)\n",
    "import matplotlib.pyplot as plt\n",
    "\n",
    "from sklearn import metrics\n",
    "def plot_roc_curve(fper, tper,cor,classsificador):\n",
    "    plt.plot(fper, tper, color=cor, label=classsificador)\n",
    "    plt.plot([0, 1], [0, 1], color=\"green\", linestyle='--')\n",
    "    plt.xlabel('Taxa de Falsos Positivos (FPR)')\n",
    "    plt.ylabel('Taxa de Verdadeiros Positivos (TPR)')\n",
    "    plt.title('Curva ROC')\n",
    "    plt.legend()\n",
    "    #plt.show()\n",
    "\n",
    "y_score = KNN.predict_proba(x_teste)[:,1]\n",
    "fpr, tpr, thresholds = metrics.roc_curve(y_teste,y_score,pos_label=2)\n",
    "print(\"AUC KNN: \",metrics.auc(fpr,tpr))\n",
    "plot_roc_curve(fpr, tpr,\"red\",\"KNN\")\n",
    "\n",
    "from sklearn.naive_bayes import GaussianNB\n",
    "NB = GaussianNB()\n",
    "NB.fit(x_treino,y_treino)\n",
    "y_score = NB.predict_proba(x_teste)[:,1]\n",
    "fpr, tpr, thresholds = metrics.roc_curve(y_teste,y_score,pos_label=2)\n",
    "print(\"AUC NB: \",metrics.auc(fpr,tpr))\n",
    "plot_roc_curve(fpr, tpr,\"blue\",\"NaiVe Bayes\")\n",
    "\n",
    "from sklearn import tree\n",
    "DT = tree.DecisionTreeClassifier()\n",
    "DT.fit(x_treino,y_treino)\n",
    "y_score = DT.predict_proba(x_teste)[:,1]\n",
    "fpr, tpr, thresholds = metrics.roc_curve(y_teste,y_score,pos_label=2)\n",
    "print(\"AUC DT: \",metrics.auc(fpr,tpr))\n",
    "plot_roc_curve(fpr, tpr,\"black\",\"DT\")\n",
    "\n",
    "#from sklearn.svm import SVC  \n",
    "#SVM = SVC(kernel='linear') \n",
    "#SVM.fit(x, y) \n",
    "\n",
    "from sklearn.ensemble import RandomForestClassifier\n",
    "RF = RandomForestClassifier(n_estimators=100, max_depth=None,min_samples_split=2)\n",
    "RF.fit(x_treino,y_treino)\n",
    "y_score = RF.predict_proba(x_teste)[:,1]\n",
    "fpr, tpr, thresholds = metrics.roc_curve(y_teste,y_score,pos_label=2)\n",
    "print(\"AUC RF: \",metrics.auc(fpr,tpr))\n",
    "plot_roc_curve(fpr, tpr,\"yellow\",\"RF\")\n",
    "\n",
    "plt.show()"
   ]
  },
  {
   "cell_type": "code",
   "execution_count": null,
   "metadata": {},
   "outputs": [],
   "source": []
  }
 ],
 "metadata": {
  "colab": {
   "authorship_tag": "ABX9TyOSZjX5+Si+0rxLQrGkyh1Y",
   "include_colab_link": true,
   "provenance": []
  },
  "kernelspec": {
   "display_name": "Python 3 (ipykernel)",
   "language": "python",
   "name": "python3"
  },
  "language_info": {
   "codemirror_mode": {
    "name": "ipython",
    "version": 3
   },
   "file_extension": ".py",
   "mimetype": "text/x-python",
   "name": "python",
   "nbconvert_exporter": "python",
   "pygments_lexer": "ipython3",
   "version": "3.7.2"
  }
 },
 "nbformat": 4,
 "nbformat_minor": 4
}
